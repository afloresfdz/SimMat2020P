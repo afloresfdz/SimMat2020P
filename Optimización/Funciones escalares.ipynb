{
  "nbformat": 4,
  "nbformat_minor": 0,
  "metadata": {
    "kernelspec": {
      "display_name": "Python 3",
      "language": "python",
      "name": "python3"
    },
    "language_info": {
      "codemirror_mode": {
        "name": "ipython",
        "version": 3
      },
      "file_extension": ".py",
      "mimetype": "text/x-python",
      "name": "python",
      "nbconvert_exporter": "python",
      "pygments_lexer": "ipython3",
      "version": "3.7.3"
    },
    "colab": {
      "name": "Funciones escalares.ipynb",
      "provenance": [],
      "collapsed_sections": []
    }
  },
  "cells": [
    {
      "cell_type": "markdown",
      "metadata": {
        "id": "8vITRYq-Tdwq",
        "colab_type": "text"
      },
      "source": [
        "# Optimización de funciones escalares diferenciables con `SymPy`\n",
        "\n",
        "<img style=\"float: right; margin: 0px 0px 15px 15px;\" src=\"https://upload.wikimedia.org/wikipedia/commons/thumb/b/b6/Extrema_example_es.svg/1200px-Extrema_example_es.svg.png\" width=\"300px\" height=\"100px\" />\n",
        "\n",
        "- Mediante optimización se obtienen soluciones elegantes tanto en teoría como en ciertas aplicaciones. \n",
        "- La teoría de optimización usa elementos comenzando con cálculo elemental y álgebra lineal básica, y luego se extiende con análisis funcional y convexo.\n",
        "- Las aplicaciones en optimización involucran ciencia, ingeniería, economía, finanzas e industria.\n",
        "- El amplio y creciente uso de la optimización lo hace escencial para estudiantes y profesionales de cualquier rama de la ciencia y la tecnología.\n",
        "\n",
        "**Referencia:**\n",
        "- http://www.math.uwaterloo.ca/~hwolkowi//henry/reports/talks.d/t06talks.d/06msribirs.d/optimportance.shtml\n",
        "\n"
      ]
    },
    {
      "cell_type": "markdown",
      "metadata": {
        "id": "gTdZipcKTdwz",
        "colab_type": "text"
      },
      "source": [
        "<img style=\"float: right; margin: 0px 0px 15px 15px;\" src=\"https://upload.wikimedia.org/wikipedia/commons/thumb/e/e7/OpenStreetMap_routing_service.png/300px-OpenStreetMap_routing_service.png\" width=\"300px\" height=\"100px\" />\n",
        "\n",
        "### Algunas aplicaciones son:\n",
        "\n",
        "1. **Ingeniería:**\n",
        " - Encontrar la composición de equilibrio de una mezcla de diferentes átomos.\n",
        " - Planeación de ruta para un robot (o vehículo aéreo no tripulado).\n",
        " - Planeación de la mano de obra óptima en una construcción o planta de producción.\n",
        " - Análisis conformacional - Isomería conformacional en modelado molecular\n",
        " - Desempeño en fermentación de productos.\n",
        " - Estimación de parámetros en bioquímica e ingeniería metabólica.\n",
        " \n",
        " \n",
        "2. **Distribución óptima de recursos:**\n",
        " - Distribución de rutas de vuelo.\n",
        " - Encontrar una dieta óptima.\n",
        " - Planeación de ruta óptima.\n",
        " \n",
        " \n",
        "3. **Optimización financiera:**\n",
        " - Administración de riesgos.\n",
        " - Portafolios de inversión.\n",
        " - Problema de maximización de la utilidad.\n",
        " - la calibración de modelos de precios de opciones para datos de mercado\n",
        " - la optimización de la función de utilidad de un agente"
      ]
    },
    {
      "cell_type": "markdown",
      "metadata": {
        "id": "iwfHYBvETdw5",
        "colab_type": "text"
      },
      "source": [
        "### <p style=\"color:green;\">En esta clase veremos aspectos básicos de optimización. Específicamente, veremos cómo obtener máximos y mínimos de una función escalar de una variable (como en cálculo diferencial).</p>\n",
        "\n",
        "<img style=\"float: center\" src=\"https://matematicasies.com/local/cache-vignettes/L337xH278/extremos-77d0a.png\" width=\"400px\" height=\"100px\" />"
      ]
    },
    {
      "cell_type": "markdown",
      "metadata": {
        "id": "7uLPJbcWTdxA",
        "colab_type": "text"
      },
      "source": [
        "___\n",
        "## 0. Librerías que usaremos\n",
        "<img style=\"float: center\" src=\"https://upload.wikimedia.org/wikipedia/commons/thumb/4/4a/Python3-powered_hello-world.svg/1000px-Python3-powered_hello-world.svg.png\" width=\"300px\" height=\"100px\" />\n"
      ]
    },
    {
      "cell_type": "markdown",
      "metadata": {
        "id": "Ik4wEfofTdxF",
        "colab_type": "text"
      },
      "source": [
        "### 0.1 `NumPy`\n",
        "\n",
        "<img style=\"float: right; margin: 0px 0px 15px 15px;\" src=\"http://www.numpy.org/_static/numpy_logo.png\" width=\"300px\" height=\"100px\" />\n",
        "\n",
        "`NumPy` (Numerical Python) es la librería fundamental para computación científica (numérica) con `Python`. Contiene, entre otras cosas:\n",
        "- un objeto tipo arreglo N-dimensional muy poderoso\n",
        "- funciones sofisticadas\n",
        "- funciones de álgebra lineal, transformada de Fourier y números aleatorios.\n",
        "\n",
        "Por lo anterior, `NumPy` es de amplio uso entre la comunidad científica e ingenieril (por su manejo de cantidades vectoriales). De la misma manera, se usa para guardar datos. Para nuestros propósitos, se puede usar libremente.\n",
        "\n",
        "**Referencia:**\n",
        "- http://www.numpy.org/"
      ]
    },
    {
      "cell_type": "markdown",
      "metadata": {
        "id": "9O6a9kpVTdxK",
        "colab_type": "text"
      },
      "source": [
        "`NumPy` ya viene incluido en la instalación estándar de Anaconda por defecto. Para comenzar a usarlo, solo debemos de importarlo:"
      ]
    },
    {
      "cell_type": "code",
      "metadata": {
        "id": "wBki0z8DTdxP",
        "colab_type": "code",
        "colab": {}
      },
      "source": [
        "# Importar librería numpy\n"
      ],
      "execution_count": 0,
      "outputs": []
    },
    {
      "cell_type": "markdown",
      "metadata": {
        "id": "6Ccg3wKhTdxg",
        "colab_type": "text"
      },
      "source": [
        "### 0.2 `SymPy`\n",
        "\n",
        "<img style=\"float: right; margin: 0px 0px 15px 15px;\" src=\"http://www.sympy.org/static/images/logo.png\" width=\"300px\" height=\"100px\" />\n",
        "\n",
        "`SymPy` (Symbolic Python) es una librería de `Python` para matemáticas simbólicas. Su objetivo es convertirse en un sistema de álgebra computacional con las mejores características, manteniendo el código lo más simple posible para que sea comprensible.\n",
        "\n",
        "**Referencia:**\n",
        "- http://www.sympy.org/en/index.html"
      ]
    },
    {
      "cell_type": "markdown",
      "metadata": {
        "id": "T5bDWTY_Tdxl",
        "colab_type": "text"
      },
      "source": [
        "`SymPy` ya viene incluido en la instalación estándar de Anaconda por defecto. Para comenzar a usarlo, solo debemos de importarlo:"
      ]
    },
    {
      "cell_type": "code",
      "metadata": {
        "id": "cU5vlIkoTdxq",
        "colab_type": "code",
        "colab": {}
      },
      "source": [
        "#Importarmos la librería sympy\n",
        "\n",
        "\n",
        "# Imprimir datos en formato Latex\n"
      ],
      "execution_count": 0,
      "outputs": []
    },
    {
      "cell_type": "markdown",
      "metadata": {
        "id": "gjOLQEXhTdx5",
        "colab_type": "text"
      },
      "source": [
        "La funcionalidad de imprimir en formato LaTex que nos da `SymPy` mediante el proyecto `mathjax` hace de `SymPy` una herramienta muy atractiva..."
      ]
    },
    {
      "cell_type": "markdown",
      "metadata": {
        "id": "UrAXbps6Tdx-",
        "colab_type": "text"
      },
      "source": [
        "Notar que en `SymPy` y en `NumPy` existen funciones con el mismo nombre, pero reciben tipos de datos diferentes..."
      ]
    },
    {
      "cell_type": "code",
      "metadata": {
        "id": "r2ttVV2RTdyD",
        "colab_type": "code",
        "colab": {}
      },
      "source": [
        ""
      ],
      "execution_count": 0,
      "outputs": []
    },
    {
      "cell_type": "code",
      "metadata": {
        "id": "grXC8tf2TdyU",
        "colab_type": "code",
        "colab": {}
      },
      "source": [
        ""
      ],
      "execution_count": 0,
      "outputs": []
    },
    {
      "cell_type": "markdown",
      "metadata": {
        "id": "KeFOROWHTdyj",
        "colab_type": "text"
      },
      "source": [
        "Explicar el uso de la sintaxis `from numpy import *` y sus peligros (no recomendable)."
      ]
    },
    {
      "cell_type": "code",
      "metadata": {
        "id": "QAEZBP_3Tdyn",
        "colab_type": "code",
        "colab": {}
      },
      "source": [
        ""
      ],
      "execution_count": 0,
      "outputs": []
    },
    {
      "cell_type": "markdown",
      "metadata": {
        "id": "PApadjXXTdy1",
        "colab_type": "text"
      },
      "source": [
        "### 0.3 `PyPlot` de `matplotlib`\n",
        "\n",
        "<img style=\"float: right; margin: 0px 0px 15px 15px;\" src=\"https://matplotlib.org/_static/logo2.svg\" width=\"300px\" height=\"100px\" />\n",
        "\n",
        "El módulo `PyPlot` de la librería `matplotlib` contiene funciones que nos permite generar una gran cantidad de gráficas rápidamente. Las funciones de este módulo están escritas con el mismo nombre que las funciones para graficar en `Matlab`.\n",
        "\n",
        "**Referencia:**\n",
        "- https://matplotlib.org/api/pyplot_summary.html"
      ]
    },
    {
      "cell_type": "code",
      "metadata": {
        "id": "jeyrG5yaTdy5",
        "colab_type": "code",
        "colab": {}
      },
      "source": [
        "# importar la librería para graficar\n",
        "\n",
        "\n",
        "# comando para que las gráficas salgan en la misma ventana\n"
      ],
      "execution_count": 0,
      "outputs": []
    },
    {
      "cell_type": "markdown",
      "metadata": {
        "id": "O8veHX8PTdzJ",
        "colab_type": "text"
      },
      "source": [
        "## 1. Teorema de Fermat (análisis)\n",
        "\n",
        "Si una función $f(x)$ alcanza un máximo o mínimo local en $x=c$, y si la derivada $f'(c)$ existe en el punto $c$, entonces $f'(c) = 0$."
      ]
    },
    {
      "cell_type": "markdown",
      "metadata": {
        "id": "ZEUcqZoPTdzO",
        "colab_type": "text"
      },
      "source": [
        "### Ejemplo\n",
        "\n",
        "Sabemos que la función $f(x)=(x-2)^2$ tiene un mínimo global en $x=2$, pues\n",
        "\n",
        "$$f(x)=(x-2)^2\\geq0,\\qquad\\text{y}\\qquad f(x)=(x-2)^2=0 \\qquad\\text{si y solo si}\\qquad x=2.$$"
      ]
    },
    {
      "cell_type": "code",
      "metadata": {
        "id": "Z4TmcpqQTdzS",
        "colab_type": "code",
        "colab": {}
      },
      "source": [
        "#Declarar variable x como real\n"
      ],
      "execution_count": 0,
      "outputs": []
    },
    {
      "cell_type": "code",
      "metadata": {
        "id": "utKD7Eb9Tdzg",
        "colab_type": "code",
        "colab": {}
      },
      "source": [
        "# Declarar función f y mostrar\n"
      ],
      "execution_count": 0,
      "outputs": []
    },
    {
      "cell_type": "code",
      "metadata": {
        "id": "DzbpeakiTdzu",
        "colab_type": "code",
        "colab": {}
      },
      "source": [
        "# Encontrar la primera derivada de la función f\n"
      ],
      "execution_count": 0,
      "outputs": []
    },
    {
      "cell_type": "code",
      "metadata": {
        "id": "614li90KTdz9",
        "colab_type": "code",
        "colab": {}
      },
      "source": [
        "#Resolver f'(x) = 0 y mostrar punto\n"
      ],
      "execution_count": 0,
      "outputs": []
    },
    {
      "cell_type": "markdown",
      "metadata": {
        "id": "zRcC_dQOTd0L",
        "colab_type": "text"
      },
      "source": [
        "Veamos la gráfica..."
      ]
    },
    {
      "cell_type": "code",
      "metadata": {
        "id": "2X9Ahl2LTd0Q",
        "colab_type": "code",
        "colab": {}
      },
      "source": [
        "# Convertir función simbólica f a una función numérica\n"
      ],
      "execution_count": 0,
      "outputs": []
    },
    {
      "cell_type": "code",
      "metadata": {
        "scrolled": false,
        "id": "T5Fagnb5Td0i",
        "colab_type": "code",
        "colab": {}
      },
      "source": [
        "# Definir coordenas x\n"
      ],
      "execution_count": 0,
      "outputs": []
    },
    {
      "cell_type": "code",
      "metadata": {
        "id": "0MV4bEgWTd03",
        "colab_type": "code",
        "colab": {}
      },
      "source": [
        "# Graficar:\n",
        "#    Creamos una ventana de gráficos\n",
        "\n",
        "\n",
        "#    Gráfico\n"
      ],
      "execution_count": 0,
      "outputs": []
    },
    {
      "cell_type": "markdown",
      "metadata": {
        "id": "aOJhHKhMTd1G",
        "colab_type": "text"
      },
      "source": [
        "Ver diferencias entre f y f_num"
      ]
    },
    {
      "cell_type": "code",
      "metadata": {
        "id": "NorfGPXiTd1K",
        "colab_type": "code",
        "colab": {}
      },
      "source": [
        ""
      ],
      "execution_count": 0,
      "outputs": []
    },
    {
      "cell_type": "code",
      "metadata": {
        "id": "OcEjknlCTd1V",
        "colab_type": "code",
        "colab": {}
      },
      "source": [
        ""
      ],
      "execution_count": 0,
      "outputs": []
    },
    {
      "cell_type": "markdown",
      "metadata": {
        "id": "67SkgnjhTd1g",
        "colab_type": "text"
      },
      "source": [
        "### **Otra manera de hacer lo anterior**\n",
        "\n",
        "Revisemos el concepto de función en `Python`"
      ]
    },
    {
      "cell_type": "code",
      "metadata": {
        "id": "BoivXG0gTd1m",
        "colab_type": "code",
        "colab": {}
      },
      "source": [
        "#Definimos una función en Python\n"
      ],
      "execution_count": 0,
      "outputs": []
    },
    {
      "cell_type": "code",
      "metadata": {
        "id": "TM_LmcLKTd1y",
        "colab_type": "code",
        "colab": {}
      },
      "source": [
        "# Evauacion numérica\n"
      ],
      "execution_count": 0,
      "outputs": []
    },
    {
      "cell_type": "code",
      "metadata": {
        "id": "Do1Ssu77Td1_",
        "colab_type": "code",
        "colab": {}
      },
      "source": [
        "# Evaluación simbólica\n"
      ],
      "execution_count": 0,
      "outputs": []
    },
    {
      "cell_type": "code",
      "metadata": {
        "id": "qThMF1EgTd2K",
        "colab_type": "code",
        "colab": {}
      },
      "source": [
        "# Derivada\n"
      ],
      "execution_count": 0,
      "outputs": []
    },
    {
      "cell_type": "code",
      "metadata": {
        "id": "ryUC0uBJTd2X",
        "colab_type": "code",
        "colab": {}
      },
      "source": [
        "# Solución para x de la derivada igual a cero\n"
      ],
      "execution_count": 0,
      "outputs": []
    },
    {
      "cell_type": "code",
      "metadata": {
        "id": "8SIVM1kGTd2l",
        "colab_type": "code",
        "colab": {}
      },
      "source": [
        "# Graficar\n"
      ],
      "execution_count": 0,
      "outputs": []
    },
    {
      "cell_type": "markdown",
      "metadata": {
        "id": "nJKkfvTVTd2y",
        "colab_type": "text"
      },
      "source": [
        "**El converso del teorema anterior no es cierto.**\n",
        "\n",
        "### Actividad\n",
        "Considere $g(x)=(x-2)^3$. \n",
        "- Usando `sympy`, muestre que $g'(2)=0$.\n",
        "- Sin embargo, descartar que $x=2$ es un extremo de $g(x)$ viendo su **gráfica**."
      ]
    },
    {
      "cell_type": "code",
      "metadata": {
        "id": "aUErJxXjTd21",
        "colab_type": "code",
        "colab": {}
      },
      "source": [
        ""
      ],
      "execution_count": 0,
      "outputs": []
    },
    {
      "cell_type": "markdown",
      "metadata": {
        "id": "5cHqWJmcTd3A",
        "colab_type": "text"
      },
      "source": [
        "## 2. Criterio de la segunda derivada\n",
        "\n",
        "Sea $f(x)$ una función tal que $f’(c)=0$ y cuya segunda derivada existe en un intervalo abierto que contiene a $c$.\n",
        "- Si $f’’(c)>0$, entonces $f(c)$ es un mínimo relativo.\n",
        "- Si $f’’(c)<0$, entonces $f(c)$ es un máximo relativo.\n",
        "- Si $f’’(c)=0$, entonces el criterio no decide. "
      ]
    },
    {
      "cell_type": "markdown",
      "metadata": {
        "id": "l4NcYjskTd3G",
        "colab_type": "text"
      },
      "source": [
        "### Ejemplo\n",
        "\n",
        "Mostrar, usando `sympy`, que la función $f(x)=(x-2)^2$ tiene un mínimo relativo en $x=2$.\n",
        "\n",
        "Ya vimos que $f'(2)=0$. Notemos que:"
      ]
    },
    {
      "cell_type": "code",
      "metadata": {
        "id": "EP-22-1BTd3K",
        "colab_type": "code",
        "colab": {}
      },
      "source": [
        "# Definiendo la función f(x)\n"
      ],
      "execution_count": 0,
      "outputs": []
    },
    {
      "cell_type": "code",
      "metadata": {
        "id": "KUoYAgfwTd3Y",
        "colab_type": "code",
        "colab": {}
      },
      "source": [
        "# Encontrando el punto crítico:\n",
        "#     Se deriva f(x)\n",
        "\n",
        "#     Se resuelve para df(x)=0\n"
      ],
      "execution_count": 0,
      "outputs": []
    },
    {
      "cell_type": "code",
      "metadata": {
        "id": "20JDT7vqTd3m",
        "colab_type": "code",
        "colab": {}
      },
      "source": [
        "# Derivar df(x)\n",
        "\n",
        "\n",
        "# Derivar dos veces f(x)\n"
      ],
      "execution_count": 0,
      "outputs": []
    },
    {
      "cell_type": "markdown",
      "metadata": {
        "id": "IMiFjnaMTd32",
        "colab_type": "text"
      },
      "source": [
        "Por tanto, por el criterio de la segunda derivada, $f(2)=0$ es un mínimo relativo (en efecto, el mínimo global)."
      ]
    },
    {
      "cell_type": "markdown",
      "metadata": {
        "id": "LRddFOZBTd36",
        "colab_type": "text"
      },
      "source": [
        "### Ejemplo\n",
        "¿Qué pasa con $g(x)=(x-2)^3$ al intentar utilizar el criterio de la segunda derivada? (usar `sympy`)."
      ]
    },
    {
      "cell_type": "code",
      "metadata": {
        "id": "Bl0dA3_VTd4A",
        "colab_type": "code",
        "colab": {}
      },
      "source": [
        "# Definimos la función\n"
      ],
      "execution_count": 0,
      "outputs": []
    },
    {
      "cell_type": "code",
      "metadata": {
        "id": "eZlJYLeUTd4O",
        "colab_type": "code",
        "colab": {}
      },
      "source": [
        "# Encontramos el punto crítico\n",
        "\n",
        "# Segunda derivada evaluada en el punto crítico\n"
      ],
      "execution_count": 0,
      "outputs": []
    },
    {
      "cell_type": "code",
      "metadata": {
        "id": "j5e2gizoTd4Z",
        "colab_type": "code",
        "colab": {}
      },
      "source": [
        "# Graficar\n"
      ],
      "execution_count": 0,
      "outputs": []
    },
    {
      "cell_type": "markdown",
      "metadata": {
        "id": "rQXsRXMZTd4k",
        "colab_type": "text"
      },
      "source": [
        "Como $g''(2)=0$ entonces el criterio de la segunda derivada no concluye."
      ]
    },
    {
      "cell_type": "markdown",
      "metadata": {
        "id": "EtrhIC04Td4n",
        "colab_type": "text"
      },
      "source": [
        "### Actividad\n",
        "\n",
        "¿Qué pasa con $h(x)=(x-2)^4$ al intentar utilizar el criterio de la segunda derivada?."
      ]
    },
    {
      "cell_type": "code",
      "metadata": {
        "id": "Ye_3HLTsTd4q",
        "colab_type": "code",
        "colab": {}
      },
      "source": [
        ""
      ],
      "execution_count": 0,
      "outputs": []
    },
    {
      "cell_type": "markdown",
      "metadata": {
        "id": "ADXxt3lLTd43",
        "colab_type": "text"
      },
      "source": [
        "## 3. Método para determinar extremos absolutos de una función continua y=f(x) en [a,b] \n",
        "\n",
        "- Determinar todos los valores críticos $c_1, c_2, c_3, \\dots, c_n$ en $(a,b)$.\n",
        "- Evaluar $f$ en todos los valores críticos y en los extremos $x=a$ y $x=b$.\n",
        "- El más grande y el más pequeño de los valores de la lista $f(a), f(b), f(c_1), f(c_2), \\dots, f(c_n)$ son el máximo absoluto y el mínimo absoluto, respectivamente, de $f$ en el intervalo $[a,b]$."
      ]
    },
    {
      "cell_type": "markdown",
      "metadata": {
        "collapsed": true,
        "id": "HiedyU4lTd5B",
        "colab_type": "text"
      },
      "source": [
        "### Ejemplo\n",
        "\n",
        "Determinar los extremos absolutos de $f(x)=x^2-2x+5$ en $\\left[0,3\\right]$.\n",
        "\n",
        "Obtenemos los puntos críticos de $f$ en $\\left[0,3\\right]$:"
      ]
    },
    {
      "cell_type": "code",
      "metadata": {
        "id": "H_hP3LEcTd5G",
        "colab_type": "code",
        "colab": {}
      },
      "source": [
        ""
      ],
      "execution_count": 0,
      "outputs": []
    },
    {
      "cell_type": "code",
      "metadata": {
        "id": "XqpwfUVLTd5P",
        "colab_type": "code",
        "colab": {}
      },
      "source": [
        ""
      ],
      "execution_count": 0,
      "outputs": []
    },
    {
      "cell_type": "code",
      "metadata": {
        "id": "ouT6SNWMTd5Y",
        "colab_type": "code",
        "colab": {}
      },
      "source": [
        ""
      ],
      "execution_count": 0,
      "outputs": []
    },
    {
      "cell_type": "markdown",
      "metadata": {
        "id": "wDmIoTF7Td5h",
        "colab_type": "text"
      },
      "source": [
        "Evaluamos $f$ en los extremos y en los puntos críticos:"
      ]
    },
    {
      "cell_type": "code",
      "metadata": {
        "id": "V1KOKyf3Td5k",
        "colab_type": "code",
        "colab": {}
      },
      "source": [
        ""
      ],
      "execution_count": 0,
      "outputs": []
    },
    {
      "cell_type": "code",
      "metadata": {
        "id": "epc0BIrSTd53",
        "colab_type": "code",
        "colab": {}
      },
      "source": [
        ""
      ],
      "execution_count": 0,
      "outputs": []
    },
    {
      "cell_type": "code",
      "metadata": {
        "id": "I07CgJWJTd6I",
        "colab_type": "code",
        "colab": {}
      },
      "source": [
        ""
      ],
      "execution_count": 0,
      "outputs": []
    },
    {
      "cell_type": "markdown",
      "metadata": {
        "id": "iVZJEjM3Td6Q",
        "colab_type": "text"
      },
      "source": [
        "### Actividad\n",
        "Determinar los valores extremos absolutos de  $f(x) = (x-3)^2(x+3)^2$ en el intervalo $[1,\\,4]$, usando `sympy`. Mostrar en una gráfica."
      ]
    },
    {
      "cell_type": "code",
      "metadata": {
        "id": "TsrbFBjmTd6X",
        "colab_type": "code",
        "colab": {}
      },
      "source": [
        ""
      ],
      "execution_count": 0,
      "outputs": []
    },
    {
      "cell_type": "code",
      "metadata": {
        "id": "aG8kEGmyTd6h",
        "colab_type": "code",
        "colab": {}
      },
      "source": [
        ""
      ],
      "execution_count": 0,
      "outputs": []
    },
    {
      "cell_type": "code",
      "metadata": {
        "id": "TwZ1muMuTd61",
        "colab_type": "code",
        "colab": {}
      },
      "source": [
        ""
      ],
      "execution_count": 0,
      "outputs": []
    },
    {
      "cell_type": "markdown",
      "metadata": {
        "id": "e0CgigELTd6-",
        "colab_type": "text"
      },
      "source": [
        "### En varias variables...\n",
        "\n",
        "El procedimiento es análogo. \n",
        "\n",
        "Si una función $f:\\mathbb{R}^n\\to\\mathbb{R}$ alcanza un máximo o mínimo local en $\\boldsymbol{x}=\\boldsymbol{c}\\in\\mathbb{R}^n$, y $f$ es diferenciable en el punto $\\boldsymbol{x}=\\boldsymbol{c}$, entonces $\\left.\\frac{\\partial f}{\\partial \\boldsymbol{x}}\\right|_{\\boldsymbol{x}=\\boldsymbol{c}}=\\boldsymbol{0}$ (todas las derivadas parciales en el punto $\\boldsymbol{x}=\\boldsymbol{c}$ son cero).\n",
        "\n",
        "**Criterio de la segunda derivada:** para ver si es máximo o mínimo, se toma la segunda derivada (matriz Hessiana) y se verifica definición negativa o positiva, respectivamente.\n",
        "\n",
        "Si se restringe a cierta región, hay ciertas técnicas. La más general, pero también la más compleja es la de **multiplicadores de Lagrange**."
      ]
    },
    {
      "cell_type": "markdown",
      "metadata": {
        "id": "Gm1hrxEXTd7B",
        "colab_type": "text"
      },
      "source": [
        "**Ejemplo:** Determinar los valores extremo de $z(x,y)= (x-3)^2 + (y+5)^2$ usando el criterio de la segunda derivada y corroborarlo con la gráfica."
      ]
    },
    {
      "cell_type": "code",
      "metadata": {
        "id": "f5MSOxipTd7D",
        "colab_type": "code",
        "colab": {}
      },
      "source": [
        ""
      ],
      "execution_count": 0,
      "outputs": []
    }
  ]
}